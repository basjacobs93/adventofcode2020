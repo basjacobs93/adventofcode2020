{
 "cells": [
  {
   "cell_type": "code",
   "execution_count": null,
   "metadata": {},
   "outputs": [],
   "source": [
    "from itertools import combinations, product\n",
    "from functools import reduce\n",
    "from operator import mul, add\n",
    "from collections import defaultdict\n",
    "import re"
   ]
  },
  {
   "cell_type": "markdown",
   "metadata": {},
   "source": [
    "# Helper functions"
   ]
  },
  {
   "cell_type": "code",
   "execution_count": null,
   "metadata": {},
   "outputs": [],
   "source": [
    "def read_input(filepath, fun = lambda x: x):\n",
    "    \"\"\"\n",
    "    Read file at location `filepath`, apply `fun` to every line,\n",
    "    and return the result as a list.\n",
    "    \"\"\"\n",
    "    with open(filepath) as f:\n",
    "        return [fun(i.strip()) for i in f.readlines()]"
   ]
  },
  {
   "cell_type": "markdown",
   "metadata": {},
   "source": [
    "# Day 1: Report Repair"
   ]
  },
  {
   "cell_type": "code",
   "execution_count": null,
   "metadata": {},
   "outputs": [],
   "source": [
    "numbers = read_input(\"input/1.txt\", int)"
   ]
  },
  {
   "cell_type": "markdown",
   "metadata": {},
   "source": [
    "### Part 1"
   ]
  },
  {
   "cell_type": "code",
   "execution_count": null,
   "metadata": {},
   "outputs": [],
   "source": [
    "for comb in combinations(numbers, 2):\n",
    "    if sum(comb) == 2020:\n",
    "        print(comb, reduce(mul, comb))\n",
    "        break"
   ]
  },
  {
   "cell_type": "markdown",
   "metadata": {},
   "source": [
    "### Part 2"
   ]
  },
  {
   "cell_type": "code",
   "execution_count": null,
   "metadata": {},
   "outputs": [],
   "source": [
    "for comb in combinations(numbers, 3):\n",
    "    if sum(comb) == 2020:\n",
    "        print(comb, reduce(mul, comb))\n",
    "        break"
   ]
  },
  {
   "cell_type": "markdown",
   "metadata": {},
   "source": [
    "# Day 2: Password Philosophy"
   ]
  },
  {
   "cell_type": "code",
   "execution_count": null,
   "metadata": {},
   "outputs": [],
   "source": [
    "pattern = re.compile(\"(\\d+)-(\\d+) (\\w): (\\w+)\")\n",
    "\n",
    "def cleaner_day2(line):\n",
    "    mini, maxi, char, password = pattern.findall(line)[0]\n",
    "    return int(mini), int(maxi), char, password\n",
    "\n",
    "policies = read_input(\"input/2.txt\", cleaner_day2)"
   ]
  },
  {
   "cell_type": "markdown",
   "metadata": {},
   "source": [
    "### Part 1"
   ]
  },
  {
   "cell_type": "code",
   "execution_count": null,
   "metadata": {},
   "outputs": [],
   "source": [
    "count = 0\n",
    "for mini, maxi, char, password in policies:\n",
    "    if mini <= password.count(char) <= maxi:\n",
    "        count += 1\n",
    "count"
   ]
  },
  {
   "cell_type": "markdown",
   "metadata": {},
   "source": [
    "### Part 2"
   ]
  },
  {
   "cell_type": "code",
   "execution_count": null,
   "metadata": {},
   "outputs": [],
   "source": [
    "count = 0\n",
    "for i, j, char, password in policies:\n",
    "    if sum([password[i-1] == char, password[j-1] == char]) == 1:\n",
    "        count += 1\n",
    "count"
   ]
  },
  {
   "cell_type": "markdown",
   "metadata": {},
   "source": [
    "# Day 3: Toboggan Trajectory"
   ]
  },
  {
   "cell_type": "code",
   "execution_count": null,
   "metadata": {},
   "outputs": [],
   "source": [
    "treemap = read_input(\"input/3.txt\")\n",
    "nrows = len(treemap)\n",
    "ncols = len(treemap[0])"
   ]
  },
  {
   "cell_type": "markdown",
   "metadata": {},
   "source": [
    "### Part 1"
   ]
  },
  {
   "cell_type": "code",
   "execution_count": null,
   "metadata": {},
   "outputs": [],
   "source": [
    "row = col = 0\n",
    "tree_count = 0\n",
    "slope_col, slope_row = (3, 1)\n",
    "\n",
    "while row < nrows-slope_row:\n",
    "    row = row + slope_row\n",
    "    col = (col + slope_col) % ncols\n",
    "    tree_count += treemap[row][col] == \"#\"\n",
    "    \n",
    "tree_count"
   ]
  },
  {
   "cell_type": "markdown",
   "metadata": {},
   "source": [
    "### Part 2"
   ]
  },
  {
   "cell_type": "code",
   "execution_count": null,
   "metadata": {},
   "outputs": [],
   "source": [
    "slopes = [(1, 1), (3, 1), (5, 1), (7, 1), (1, 2)]\n",
    "prod = 1\n",
    "\n",
    "for slope_col, slope_row in slopes:\n",
    "    row = col = 0\n",
    "    tree_count = 0\n",
    "\n",
    "    while row < nrows-slope_row:\n",
    "        row = row + slope_row\n",
    "        col = (col + slope_col) % ncols\n",
    "        tree_count += treemap[row][col] == \"#\"\n",
    "\n",
    "    prod *= tree_count\n",
    "prod"
   ]
  },
  {
   "cell_type": "markdown",
   "metadata": {},
   "source": [
    "# Day 4: Passport Processing"
   ]
  },
  {
   "cell_type": "code",
   "execution_count": null,
   "metadata": {},
   "outputs": [],
   "source": [
    "lines = read_input(\"input/4.txt\")\n",
    "\n",
    "passports = []\n",
    "passport_buildup = []\n",
    "\n",
    "for line in lines:\n",
    "    if line == \"\":\n",
    "        passport = dict(pb.split(\":\") for pb in passport_buildup)\n",
    "        passports.append(passport)\n",
    "        passport_buildup = []\n",
    "    else:\n",
    "        passport_buildup += line.split(\" \")\n",
    "\n",
    "# Add last line as well\n",
    "passport = dict(pb.split(\":\") for pb in passport_buildup)\n",
    "passports.append(passport)"
   ]
  },
  {
   "cell_type": "markdown",
   "metadata": {},
   "source": [
    "### Part 1"
   ]
  },
  {
   "cell_type": "code",
   "execution_count": null,
   "metadata": {},
   "outputs": [],
   "source": [
    "needed_fields = {\"byr\", \"iyr\", \"eyr\", \"hgt\", \"hcl\", \"ecl\", \"pid\"}\n",
    "\n",
    "len([passport for passport in passports if needed_fields.issubset(passport.keys())])"
   ]
  },
  {
   "cell_type": "markdown",
   "metadata": {},
   "source": [
    "### Part 2"
   ]
  },
  {
   "cell_type": "code",
   "execution_count": null,
   "metadata": {},
   "outputs": [],
   "source": [
    "def is_valid(passport):\n",
    "    \"\"\"\n",
    "    Checks for the following fields\n",
    "    \n",
    "    byr (Birth Year) - four digits; at least 1920 and at most 2002.\n",
    "    iyr (Issue Year) - four digits; at least 2010 and at most 2020.\n",
    "    eyr (Expiration Year) - four digits; at least 2020 and at most 2030.\n",
    "    hgt (Height) - a number followed by either cm or in:\n",
    "    If cm, the number must be at least 150 and at most 193.\n",
    "    If in, the number must be at least 59 and at most 76.\n",
    "    hcl (Hair Color) - a # followed by exactly six characters 0-9 or a-f.\n",
    "    ecl (Eye Color) - exactly one of: amb blu brn gry grn hzl oth.\n",
    "    pid (Passport ID) - a nine-digit number, including leading zeroes.\n",
    "    cid (Country ID) - ignored, missing or not.\n",
    "    \"\"\"\n",
    "    if not needed_fields.issubset(passport.keys()):\n",
    "        return False\n",
    "        \n",
    "    # byr\n",
    "    if not (re.match(\"\\d{4}$\", passport[\"byr\"]) and 1920 <= int(passport[\"byr\"]) <= 2002):\n",
    "        return False\n",
    "    \n",
    "    # iyr\n",
    "    if not (re.match(\"\\d{4}$\", passport[\"iyr\"]) and 2010 <= int(passport[\"iyr\"]) <= 2020):\n",
    "        return False\n",
    "\n",
    "    # eyr\n",
    "    if not (re.match(\"\\d{4}$\", passport[\"eyr\"]) and 2020 <= int(passport[\"eyr\"]) <= 2030):\n",
    "        return False\n",
    "    \n",
    "    # hgt\n",
    "    hgt = re.match(\"(\\d+)(cm|in)$\", passport[\"hgt\"])\n",
    "    if not hgt:\n",
    "        return False\n",
    "    if hgt.group(2) == \"cm\":\n",
    "        if not (150 <= int(hgt.group(1)) <= 193):\n",
    "            return False\n",
    "    else:\n",
    "        if not (59 <= int(hgt.group(1)) <= 76):\n",
    "            return False\n",
    "    \n",
    "    # hcl\n",
    "    if not re.match(\"#[0-9a-f]{6}$\", passport[\"hcl\"]):\n",
    "        return False\n",
    "            \n",
    "    # ecl\n",
    "    if not passport[\"ecl\"] in \"amb blu brn gry grn hzl oth\".split(\" \"):\n",
    "        return False\n",
    "    \n",
    "    # pid\n",
    "    if not re.match(\"\\d{9}$\", passport[\"pid\"]):\n",
    "        return False\n",
    "    \n",
    "    return True"
   ]
  },
  {
   "cell_type": "code",
   "execution_count": null,
   "metadata": {
    "scrolled": true
   },
   "outputs": [],
   "source": [
    "len([passport for passport in passports if is_valid(passport)])"
   ]
  },
  {
   "cell_type": "markdown",
   "metadata": {},
   "source": [
    "# Day 5: Binary Boarding"
   ]
  },
  {
   "cell_type": "code",
   "execution_count": null,
   "metadata": {},
   "outputs": [],
   "source": [
    "translator = str.maketrans({\"F\": \"0\", \"B\": \"1\",\n",
    "                            \"R\": \"1\", \"L\": \"0\"})\n",
    "\n",
    "def seat_to_number(seat):\n",
    "    \"\"\"\n",
    "    Turn seat string into a seat number by turning \n",
    "    it into a binary number and parsing it\n",
    "    \"\"\"\n",
    "    seat = seat.translate(translator)\n",
    "    row, col = seat[:7], seat[7:]\n",
    "    row, col = int(row, 2), int(col, 2)\n",
    "\n",
    "    return row * 8 + col\n",
    "\n",
    "seat_numbers = read_input(\"input/5.txt\", seat_to_number)\n",
    "seat_numbers = set(seat_numbers)"
   ]
  },
  {
   "cell_type": "markdown",
   "metadata": {},
   "source": [
    "### Part 1"
   ]
  },
  {
   "cell_type": "code",
   "execution_count": null,
   "metadata": {},
   "outputs": [],
   "source": [
    "max(seat_numbers)"
   ]
  },
  {
   "cell_type": "markdown",
   "metadata": {},
   "source": [
    "### Part 2"
   ]
  },
  {
   "cell_type": "code",
   "execution_count": null,
   "metadata": {},
   "outputs": [],
   "source": [
    "all_seats = set(range(min(seat_numbers), max(seat_numbers)+1))\n",
    "all_seats - seat_numbers"
   ]
  },
  {
   "cell_type": "markdown",
   "metadata": {},
   "source": [
    "# Day 6 - Custom Customs"
   ]
  },
  {
   "cell_type": "code",
   "execution_count": null,
   "metadata": {},
   "outputs": [],
   "source": [
    "lines = read_input(\"input/6.txt\")\n",
    "\n",
    "group = []\n",
    "groups = []\n",
    "\n",
    "for line in lines:\n",
    "    if line == \"\":\n",
    "        groups.append(group)\n",
    "        group = []\n",
    "    else:\n",
    "        group.append(set(pb for pb in line))\n",
    "\n",
    "# Add last group as well\n",
    "groups.append(group)"
   ]
  },
  {
   "cell_type": "markdown",
   "metadata": {},
   "source": [
    "### Part 1"
   ]
  },
  {
   "cell_type": "code",
   "execution_count": null,
   "metadata": {},
   "outputs": [],
   "source": [
    "combined = [reduce(set.union, group) for group in groups]\n",
    "\n",
    "sum(len(group) for group in combined)"
   ]
  },
  {
   "cell_type": "markdown",
   "metadata": {},
   "source": [
    "### Part 2"
   ]
  },
  {
   "cell_type": "code",
   "execution_count": null,
   "metadata": {},
   "outputs": [],
   "source": [
    "combined = [reduce(set.intersection, group) for group in groups]\n",
    "\n",
    "sum(len(group) for group in combined)"
   ]
  },
  {
   "cell_type": "markdown",
   "metadata": {},
   "source": [
    "# Day 7: Handy Haversacks"
   ]
  },
  {
   "cell_type": "code",
   "execution_count": null,
   "metadata": {},
   "outputs": [],
   "source": [
    "capture_bags = re.compile(\"(\\d*)\\s?(\\w+\\s\\w+) bag\")\n",
    "\n",
    "lines = read_input(\"input/7.txt\", capture_bags.findall)\n",
    "\n",
    "rules = {line[0][1]: {color: int(num) for num, color in line[1:] if color != \"no other\"} for line in lines}"
   ]
  },
  {
   "cell_type": "markdown",
   "metadata": {},
   "source": [
    "### Part 1"
   ]
  },
  {
   "cell_type": "code",
   "execution_count": null,
   "metadata": {},
   "outputs": [],
   "source": [
    "can_contain = {\"shiny gold\"}\n",
    "n_can_contain = 0\n",
    "\n",
    "# Keep trying to find outer bags that fit any of the inner bags\n",
    "while len(can_contain) > n_can_contain:\n",
    "    n_can_contain = len(can_contain)\n",
    "    for outer, inner in rules.items():\n",
    "        if len(can_contain.intersection(inner.keys())) > 0:\n",
    "            can_contain.add(outer)\n",
    "\n",
    "len(can_contain) - 1 # subtract \"shiny gold\" itself"
   ]
  },
  {
   "cell_type": "markdown",
   "metadata": {},
   "source": [
    "### Part 2"
   ]
  },
  {
   "cell_type": "code",
   "execution_count": null,
   "metadata": {},
   "outputs": [],
   "source": [
    "def count_within(bag):\n",
    "    rules_inside = rules[bag]\n",
    "    \n",
    "    bags_inside = rules_inside.keys()\n",
    "    \n",
    "    if len(bags_inside) == 0:\n",
    "        return 0\n",
    "    \n",
    "    # the bag itself plus the number inside\n",
    "    return sum(rules_inside[b]*(count_within(b)+1) for b in bags_inside)"
   ]
  },
  {
   "cell_type": "code",
   "execution_count": null,
   "metadata": {
    "scrolled": true
   },
   "outputs": [],
   "source": [
    "count_within(\"shiny gold\")"
   ]
  },
  {
   "cell_type": "markdown",
   "metadata": {},
   "source": [
    "# Day 8: Handheld Halting"
   ]
  },
  {
   "cell_type": "code",
   "execution_count": null,
   "metadata": {},
   "outputs": [],
   "source": [
    "def get_instruction(line):\n",
    "    op, arg = line.split()\n",
    "    return (op, int(arg))\n",
    "    \n",
    "instructions = read_input(\"input/8.txt\", get_instruction)"
   ]
  },
  {
   "cell_type": "code",
   "execution_count": null,
   "metadata": {},
   "outputs": [],
   "source": [
    "def run_program(instructions):\n",
    "    \"\"\"\n",
    "    Runs program in `instructions` and returns whether\n",
    "    it returned successfully, and the value of accumulator\n",
    "    at point of return or at point of infinite loop.\n",
    "    \"\"\"\n",
    "    index = 0\n",
    "    index_history = set()\n",
    "    acc = 0\n",
    "\n",
    "    while index not in index_history:\n",
    "        if index < 0:\n",
    "            return False, acc\n",
    "        # Terminate successfully\n",
    "        if index >= len(instructions):\n",
    "            return True, acc\n",
    "        \n",
    "        index_history.add(index)\n",
    "        op, arg = instructions[index]\n",
    "        if op == \"jmp\":\n",
    "            index = index + arg\n",
    "        elif op == \"acc\":\n",
    "            index += 1\n",
    "            acc += arg\n",
    "        else: # nop\n",
    "            index += 1\n",
    "    \n",
    "    return False, acc"
   ]
  },
  {
   "cell_type": "markdown",
   "metadata": {},
   "source": [
    "### Part 1"
   ]
  },
  {
   "cell_type": "code",
   "execution_count": null,
   "metadata": {},
   "outputs": [],
   "source": [
    "run_program(instructions)"
   ]
  },
  {
   "cell_type": "markdown",
   "metadata": {},
   "source": [
    "### Part 2"
   ]
  },
  {
   "cell_type": "code",
   "execution_count": null,
   "metadata": {
    "scrolled": true
   },
   "outputs": [],
   "source": [
    "# Simply brute-force by trying to change each nop into a jmp and vice versa\n",
    "for i in range(len(instructions)-1):\n",
    "    op, arg = instructions[i]\n",
    "    if op == \"acc\":\n",
    "        continue\n",
    "    \n",
    "    # switching\n",
    "    if op == \"jmp\":\n",
    "        new_instructions = instructions[:i] + [(\"nop\", arg)] + instructions[i+1:]\n",
    "    elif op == \"nop\":\n",
    "        new_instructions = instructions[:i] + [(\"jmp\", arg)] + instructions[i+1:]\n",
    "    \n",
    "    ret, acc = run_program(new_instructions)\n",
    "    if ret:\n",
    "        print(i, acc)\n",
    "        break"
   ]
  },
  {
   "cell_type": "markdown",
   "metadata": {},
   "source": [
    "# Day 9: Encoding Error"
   ]
  },
  {
   "cell_type": "code",
   "execution_count": null,
   "metadata": {},
   "outputs": [],
   "source": [
    "numbers = read_input(\"input/9.txt\", int)"
   ]
  },
  {
   "cell_type": "markdown",
   "metadata": {},
   "source": [
    "### Part 1"
   ]
  },
  {
   "cell_type": "code",
   "execution_count": null,
   "metadata": {},
   "outputs": [],
   "source": [
    "preamble = numbers[:25]\n",
    "\n",
    "for i in numbers[25:]:\n",
    "    valid_numbers = {i+j for i, j in combinations(preamble, 2)}\n",
    "    if i not in valid_numbers:\n",
    "        invalid_number = i\n",
    "        break\n",
    "    preamble = preamble[1:] + [i]\n",
    "    \n",
    "invalid_number"
   ]
  },
  {
   "cell_type": "markdown",
   "metadata": {},
   "source": [
    "### Part 2"
   ]
  },
  {
   "cell_type": "code",
   "execution_count": null,
   "metadata": {},
   "outputs": [],
   "source": [
    "first_i = 0\n",
    "last_i = 1\n",
    "numbers_sum = 0\n",
    "\n",
    "while numbers_sum != invalid_number:\n",
    "    numbers_range = numbers[first_i:(last_i+1)]\n",
    "    numbers_sum = sum(numbers_range)\n",
    "    \n",
    "    if numbers_sum < invalid_number and last_i < len(numbers) - 1:\n",
    "        # keep increasing last index while we are below sum\n",
    "        last_i += 1\n",
    "    else:\n",
    "        # increase first index\n",
    "        first_i += 1\n",
    "        last_i = first_i + 1\n",
    "        \n",
    "min(numbers_range) + max(numbers_range)"
   ]
  },
  {
   "cell_type": "markdown",
   "metadata": {},
   "source": [
    "# Day 10: Adapter Array"
   ]
  },
  {
   "cell_type": "code",
   "execution_count": null,
   "metadata": {},
   "outputs": [],
   "source": [
    "adapters = read_input(\"input/10.txt\", int)\n",
    "\n",
    "# Add outlet and built-in adapter\n",
    "adapters = sorted([0] + adapters + [max(adapters)+3])"
   ]
  },
  {
   "cell_type": "markdown",
   "metadata": {},
   "source": [
    "### Part 1"
   ]
  },
  {
   "cell_type": "code",
   "execution_count": null,
   "metadata": {
    "scrolled": true
   },
   "outputs": [],
   "source": [
    "diffs = [j-i for i, j in zip(adapters, adapters[1:])]\n",
    "sum(diff == 1 for diff in diffs) * sum(diff == 3 for diff in diffs)"
   ]
  },
  {
   "cell_type": "markdown",
   "metadata": {},
   "source": [
    "### Part 2"
   ]
  },
  {
   "cell_type": "code",
   "execution_count": null,
   "metadata": {
    "scrolled": true
   },
   "outputs": [],
   "source": [
    "# Dynamic programming\n",
    "num_arrangements = [0] * len(adapters)\n",
    "num_arrangements[-1] = 1\n",
    "\n",
    "# From back to front\n",
    "for i in range(0, len(adapters))[::-1]:\n",
    "    \n",
    "    # Get there via another adapter\n",
    "    for n_i in [i-1, i-2, i-3]:\n",
    "        if n_i < 0:\n",
    "            break\n",
    "        if adapters[i] - adapters[n_i] <= 3:\n",
    "            num_arrangements[n_i] += num_arrangements[i]\n",
    "        \n",
    "\n",
    "num_arrangements[0]"
   ]
  },
  {
   "cell_type": "markdown",
   "metadata": {},
   "source": [
    "# Day 11: Seating System"
   ]
  },
  {
   "cell_type": "code",
   "execution_count": null,
   "metadata": {
    "scrolled": true
   },
   "outputs": [],
   "source": [
    "layout = read_input(\"input/11.txt\", lambda x: [i for i in x])\n",
    "nrow = len(layout)\n",
    "ncol = len(layout[0])\n",
    "\n",
    "[row[:10] for row in layout[:10]]"
   ]
  },
  {
   "cell_type": "code",
   "execution_count": null,
   "metadata": {},
   "outputs": [],
   "source": [
    "def seat_dance(layout, n_occupied_fun, max_n_occupied):\n",
    "    \"\"\"\n",
    "    Iteratively occupy and empty seats\n",
    "    \"\"\"\n",
    "    while True:\n",
    "        new_layout = [[layout[row][col] for col in range(ncol)] for row in range(nrow)]\n",
    "        has_changed = False\n",
    "\n",
    "        for row in range(nrow):\n",
    "            for col in range(ncol):\n",
    "                seat = layout[row][col]\n",
    "                n_occupied = n_occupied_fun(layout, row, col)\n",
    "\n",
    "                if seat == \"L\" and n_occupied == 0:\n",
    "                    new_layout[row][col] = \"#\"\n",
    "                    has_changed = True\n",
    "                elif seat == \"#\" and n_occupied >= max_n_occupied:\n",
    "                    new_layout[row][col] = \"L\"\n",
    "                    has_changed = True\n",
    "\n",
    "        layout = new_layout\n",
    "        if not has_changed:\n",
    "            return layout"
   ]
  },
  {
   "cell_type": "markdown",
   "metadata": {},
   "source": [
    "### Part 1"
   ]
  },
  {
   "cell_type": "code",
   "execution_count": null,
   "metadata": {},
   "outputs": [],
   "source": [
    "def get_occupied_neighbors(layout, row, col):\n",
    "    \"\"\"\n",
    "    Return number of neighbors of seat at position (row, col)\n",
    "    that are occupied (\"#\").\n",
    "    \"\"\"\n",
    "    neighbor_rows = layout[max(0, row-1):min(nrow, row+2)]\n",
    "    neighbors = [row[max(0, col-1):min(ncol, col+2)] for row in neighbor_rows]\n",
    "\n",
    "    n_occupied = sum(seat == \"#\" for row in neighbors for seat in row)\n",
    "    # subtract own seat\n",
    "    \n",
    "    return n_occupied - (layout[row][col] == \"#\")"
   ]
  },
  {
   "cell_type": "code",
   "execution_count": null,
   "metadata": {},
   "outputs": [],
   "source": [
    "final_layout = seat_dance(layout, n_occupied_fun=get_occupied_neighbors, max_n_occupied=4)\n",
    "\n",
    "sum(seat == \"#\" for row in final_layout for seat in row)"
   ]
  },
  {
   "cell_type": "markdown",
   "metadata": {},
   "source": [
    "### Part 2"
   ]
  },
  {
   "cell_type": "code",
   "execution_count": null,
   "metadata": {},
   "outputs": [],
   "source": [
    "def get_visible_occupied_neighbors(layout, row, col):\n",
    "    \"\"\"\n",
    "    List visible neighbors of seat at position (row, col)\n",
    "    that are occupied\n",
    "    \"\"\"\n",
    "    n_occupied = 0\n",
    "    \n",
    "    # look directions\n",
    "    directions = [( 1, 0), ( 1,  1), (0,  1), (-1,  1),\n",
    "                  (-1, 0), (-1, -1), (0, -1), ( 1, -1)]\n",
    "    \n",
    "    for d_row, d_col in directions:\n",
    "        new_row = row\n",
    "        new_col = col\n",
    "        # travel in direction until we hit a border or a \"#\"\n",
    "        while 0 <= new_row+d_row < nrow and 0 <= new_col+d_col < ncol:\n",
    "            new_row = new_row + d_row\n",
    "            new_col = new_col + d_col\n",
    "\n",
    "            if layout[new_row][new_col] == \"#\":\n",
    "                n_occupied += 1\n",
    "\n",
    "            if layout[new_row][new_col] != \".\":\n",
    "                # stop looking in this direction\n",
    "                break\n",
    "    \n",
    "    return n_occupied"
   ]
  },
  {
   "cell_type": "code",
   "execution_count": null,
   "metadata": {},
   "outputs": [],
   "source": [
    "final_layout = seat_dance(layout, n_occupied_fun=get_visible_occupied_neighbors, max_n_occupied=5)\n",
    "\n",
    "sum(seat == \"#\" for row in final_layout for seat in row)"
   ]
  },
  {
   "cell_type": "markdown",
   "metadata": {},
   "source": [
    "# Day 12: Rain Risk"
   ]
  },
  {
   "cell_type": "code",
   "execution_count": null,
   "metadata": {},
   "outputs": [],
   "source": [
    "instructions = read_input(\"input/12.txt\", lambda x: (x[0], int(x[1:])))\n",
    "\n",
    "instructions[:5]"
   ]
  },
  {
   "cell_type": "code",
   "execution_count": null,
   "metadata": {},
   "outputs": [],
   "source": [
    "direction_mapping = {\"N\": ( 0,  1),\n",
    "                     \"E\": ( 1,  0),\n",
    "                     \"S\": ( 0, -1),\n",
    "                     \"W\": (-1,  0)}"
   ]
  },
  {
   "cell_type": "markdown",
   "metadata": {},
   "source": [
    "### Part 1"
   ]
  },
  {
   "cell_type": "code",
   "execution_count": null,
   "metadata": {},
   "outputs": [],
   "source": [
    "directions = [\"N\", \"E\", \"S\", \"W\"]\n",
    "\n",
    "position = (0, 0)\n",
    "facing = 1 # directions[1] = East\n",
    "\n",
    "for action, value in instructions:\n",
    "    delta = (0, 0)\n",
    "\n",
    "    # The only values for \"R\" and \"L\" are multiples of 90\n",
    "    # which makes this easier than I initially thought\n",
    "    if action == \"R\":\n",
    "        facing = (facing + value//90) % 4\n",
    "    elif action == \"L\":\n",
    "        facing = (facing - value//90) % 4\n",
    "\n",
    "    elif action == \"F\":\n",
    "        delta_x, delta_y = direction_mapping[directions[facing]]\n",
    "        delta = (delta_x * value, delta_y * value)\n",
    "    else: # N, E, S, W\n",
    "        delta_x, delta_y = direction_mapping[action]\n",
    "        delta = (delta_x * value, delta_y * value)\n",
    "\n",
    "    \n",
    "    position = (position[0] + delta[0], position[1] + delta[1])\n",
    "    \n",
    "manhattan_distance = sum(abs(i) for i in position)\n",
    "manhattan_distance"
   ]
  },
  {
   "cell_type": "markdown",
   "metadata": {},
   "source": [
    "### Part 2"
   ]
  },
  {
   "cell_type": "code",
   "execution_count": null,
   "metadata": {},
   "outputs": [],
   "source": [
    "position = (0, 0)\n",
    "waypoint = (10, 1)\n",
    "\n",
    "for action, value in instructions:\n",
    "    way_x, way_y = waypoint\n",
    "\n",
    "    if action == \"R\":\n",
    "        for _ in range(value//90):\n",
    "            waypoint = (way_y, -way_x)\n",
    "            way_x, way_y = waypoint\n",
    "    elif action == \"L\":\n",
    "        for _ in range(value//90):\n",
    "            waypoint = (-way_y, way_x)\n",
    "            way_x, way_y = waypoint\n",
    "    elif action == \"F\":\n",
    "        pos_x, pos_y = position\n",
    "        position = (pos_x + way_x * value, pos_y + way_y * value)\n",
    "    else: # N, E, S, W\n",
    "        delta_x, delta_y = direction_mapping[action]\n",
    "        waypoint = (way_x + delta_x * value, way_y + delta_y * value)\n",
    "    \n",
    "manhattan_distance = sum(abs(i) for i in position)\n",
    "manhattan_distance"
   ]
  },
  {
   "cell_type": "markdown",
   "metadata": {},
   "source": [
    "# Day 13: Shuttle Search"
   ]
  },
  {
   "cell_type": "code",
   "execution_count": null,
   "metadata": {
    "scrolled": true
   },
   "outputs": [],
   "source": [
    "earliest_timestamp, bus_times = read_input(\"input/13.txt\")\n",
    "earliest_timestamp = int(earliest_timestamp)"
   ]
  },
  {
   "cell_type": "markdown",
   "metadata": {},
   "source": [
    "### Part 1"
   ]
  },
  {
   "cell_type": "code",
   "execution_count": null,
   "metadata": {},
   "outputs": [],
   "source": [
    "bus_ids = [int(bus_id) for bus_id in bus_times.split(\",\") if bus_id != \"x\"]"
   ]
  },
  {
   "cell_type": "code",
   "execution_count": null,
   "metadata": {},
   "outputs": [],
   "source": [
    "waiting_times = [bus_id - (earliest_timestamp % bus_id) for bus_id in bus_ids]\n",
    "\n",
    "min_waiting_time = min(waiting_times)\n",
    "bus_id, = [bus_ids[i] for i in range(len(waiting_times)) if waiting_times[i] == min_waiting_time]\n",
    "\n",
    "bus_id * min_waiting_time"
   ]
  },
  {
   "cell_type": "markdown",
   "metadata": {},
   "source": [
    "### Part 2"
   ]
  },
  {
   "cell_type": "code",
   "execution_count": null,
   "metadata": {},
   "outputs": [],
   "source": [
    "# replace \"x\" with 1 since that departs every minute\n",
    "bus_ids = [int(bus_id) if bus_id != \"x\" else 1 for bus_id in bus_times.split(\",\")]"
   ]
  },
  {
   "cell_type": "code",
   "execution_count": null,
   "metadata": {},
   "outputs": [],
   "source": [
    "def inverse_mod(a, m):\n",
    "    \"\"\"\n",
    "    Assume m is prime, naive implementation\n",
    "    using Euler's theorem:\n",
    "    a^(-1) = a^(m-2) mod m\n",
    "    \"\"\"\n",
    "    inv = 1\n",
    "    for _ in range(m-2):\n",
    "        inv = (inv * a) % m\n",
    "    return inv"
   ]
  },
  {
   "cell_type": "code",
   "execution_count": null,
   "metadata": {
    "scrolled": true
   },
   "outputs": [],
   "source": [
    "# Apply the Chinese Remainder Theorem\n",
    "# for example, https://crypto.stanford.edu/pbc/notes/numbertheory/crt.html\n",
    "\n",
    "moduli = bus_ids\n",
    "M = reduce(mul, moduli)\n",
    "\n",
    "x = 0\n",
    "\n",
    "for i in range(len(moduli)):\n",
    "    m_i = moduli[i]\n",
    "\n",
    "    a_i = m_i - i # time after start, not time before\n",
    "    b_i = M // m_i\n",
    "    b_i_ = inverse_mod(b_i, m_i)\n",
    "    \n",
    "    x = (x + a_i*b_i*b_i_) % M\n",
    "\n",
    "x"
   ]
  },
  {
   "cell_type": "markdown",
   "metadata": {},
   "source": [
    "# Day 14: Docking Data"
   ]
  },
  {
   "cell_type": "code",
   "execution_count": null,
   "metadata": {},
   "outputs": [],
   "source": [
    "instructions = read_input(\"input/14.txt\", lambda x: tuple(x.split(\" = \")))"
   ]
  },
  {
   "cell_type": "markdown",
   "metadata": {},
   "source": [
    "### Part 1"
   ]
  },
  {
   "cell_type": "code",
   "execution_count": null,
   "metadata": {
    "scrolled": false
   },
   "outputs": [],
   "source": [
    "mem = {}\n",
    "for key, val in instructions:\n",
    "    if key == \"mask\":\n",
    "        mask = zip(range(len(val)), val)\n",
    "        mask = [(k, v) for k, v in mask if v != \"X\"]\n",
    "    else:\n",
    "        val = bin(int(val))[2:] # drop the \"0b\"\n",
    "        val = val.zfill(36)\n",
    "\n",
    "        for k, v in mask:\n",
    "            val = val[:k] + str(v) + val[(k+1):]\n",
    "\n",
    "        mem[key] = int(val, 2)\n",
    "        \n",
    "sum(mem.values())"
   ]
  },
  {
   "cell_type": "markdown",
   "metadata": {},
   "source": [
    "### Part 2"
   ]
  },
  {
   "cell_type": "code",
   "execution_count": null,
   "metadata": {
    "scrolled": true
   },
   "outputs": [],
   "source": [
    "mem = {}\n",
    "for key, val in instructions:\n",
    "    if key == \"mask\":\n",
    "        mask = list(zip(range(len(val)), val))\n",
    "        # x\n",
    "        mask_x = [k for k, v in mask if v == \"X\"]\n",
    "        # 1 and 0\n",
    "        mask_10 = [(k, int(v)) for k, v in mask if v != \"X\"]\n",
    "    else: # mem\n",
    "        # Convert address to binary\n",
    "        address = re.search(\"\\d+\", key)[0]\n",
    "        address = bin(int(address))[2:] # drop the \"0b\"\n",
    "        address = address.zfill(36)\n",
    "\n",
    "        # Apply \"1\" and \"0\" by taking max\n",
    "        for k, v in mask_10:\n",
    "            new_v = str(max(int(address[k]), v))\n",
    "            address = address[:k] + new_v + address[(k+1):]\n",
    "            \n",
    "        # Apply \"X\"\n",
    "        n_x = len(mask_x)\n",
    "        # Combinations of zeros and ones of length n_x\n",
    "        # are the binary numbers from 0 to 2^n_x - 1\n",
    "        for new_values in range(2**n_x):\n",
    "            # Define mask\n",
    "            new_address = address\n",
    "            new_values = bin(new_values)[2:].zfill(n_x)\n",
    "            # Apply mask\n",
    "            for x_i in range(n_x):\n",
    "                new_v = new_values[x_i]\n",
    "                new_k = mask_x[x_i]\n",
    "                new_address = new_address[:new_k] + new_v + new_address[(new_k+1):]\n",
    "            # Write to address\n",
    "            mem[new_address] = int(val)\n",
    "        \n",
    "sum(mem.values())"
   ]
  },
  {
   "cell_type": "markdown",
   "metadata": {},
   "source": [
    "# Day 15: Rambunctious Recitation"
   ]
  },
  {
   "cell_type": "code",
   "execution_count": null,
   "metadata": {},
   "outputs": [],
   "source": [
    "def num_turns_apart(number, numbers):\n",
    "    for i in range(1, len(numbers)):\n",
    "        if numbers[-(i+1)] == number:\n",
    "            return i\n",
    "    return 0"
   ]
  },
  {
   "cell_type": "markdown",
   "metadata": {},
   "source": [
    "### Part 1"
   ]
  },
  {
   "cell_type": "code",
   "execution_count": null,
   "metadata": {},
   "outputs": [],
   "source": [
    "numbers = [int(i) for i in \"6,3,15,13,1,0\".split(\",\")]\n",
    "\n",
    "for _ in range(2020-len(numbers)):\n",
    "    number = numbers[-1]\n",
    "    next_number = num_turns_apart(number, numbers)\n",
    "    numbers.append(next_number)\n",
    "\n",
    "numbers[-1]"
   ]
  },
  {
   "cell_type": "markdown",
   "metadata": {},
   "source": [
    "### Part 2"
   ]
  },
  {
   "cell_type": "code",
   "execution_count": null,
   "metadata": {},
   "outputs": [],
   "source": [
    "# The above naive method of searching through the entire list\n",
    "# becomes infeasible at this point. Instead, we store the last index\n",
    "# in which a number was called and immediately refer to that.\n",
    "numbers = [int(i) for i in \"6,3,15,13,1,0\".split(\",\")]\n",
    "\n",
    "last_index = dict(zip(numbers, range(1, len(numbers)+1)))\n",
    "\n",
    "next_number = numbers[-1]\n",
    "for i in range(len(numbers), 30000000):\n",
    "    number = next_number\n",
    "\n",
    "    last_called = last_index.get(number, -1)\n",
    "    if last_called == -1:\n",
    "        next_number = 0\n",
    "    else:\n",
    "        next_number = i - last_called\n",
    "    \n",
    "    last_index[number] = i\n",
    "\n",
    "next_number"
   ]
  },
  {
   "cell_type": "markdown",
   "metadata": {},
   "source": [
    "# Day 16: Ticket Translation"
   ]
  },
  {
   "cell_type": "code",
   "execution_count": null,
   "metadata": {},
   "outputs": [],
   "source": [
    "notes = read_input(\"input/16.txt\")"
   ]
  },
  {
   "cell_type": "code",
   "execution_count": null,
   "metadata": {},
   "outputs": [],
   "source": [
    "def extract_ranges(string):\n",
    "    min_1, max_1, min_2, max_2 = [int(i) for i in re.findall(\"(\\d+)\", string)]\n",
    "    \n",
    "    return set(range(min_1, max_1+1)).union(range(min_2, max_2+1))"
   ]
  },
  {
   "cell_type": "code",
   "execution_count": null,
   "metadata": {},
   "outputs": [],
   "source": [
    "parts = [[],[],[]]\n",
    "\n",
    "i = 0\n",
    "for note in notes:\n",
    "    if note == \"\":\n",
    "        i += 1\n",
    "    else:\n",
    "        parts[i].append(note)\n",
    "        \n",
    "field_rules, my_ticket, nearby_tickets = parts\n",
    "field_rules = {name: extract_ranges(rang) for name, rang in [rule.split(\": \") for rule in field_rules]}\n",
    "my_ticket = [int(i) for i in my_ticket[1].split(\",\")]\n",
    "nearby_tickets = [[int(i) for i in ticket.split(\",\")] for ticket in nearby_tickets[1:]]\n",
    "\n",
    "n_fields = len(my_ticket)"
   ]
  },
  {
   "cell_type": "markdown",
   "metadata": {},
   "source": [
    "### Part 1"
   ]
  },
  {
   "cell_type": "code",
   "execution_count": null,
   "metadata": {},
   "outputs": [],
   "source": [
    "all_field_rules = reduce(set.union, field_rules.values())\n",
    "\n",
    "sum(sum(set(ticket) - all_field_rules) for ticket in nearby_tickets)"
   ]
  },
  {
   "cell_type": "markdown",
   "metadata": {},
   "source": [
    "### Part 2"
   ]
  },
  {
   "cell_type": "code",
   "execution_count": null,
   "metadata": {},
   "outputs": [],
   "source": [
    "valid_tickets = [ticket for ticket in nearby_tickets if len(set(ticket) - all_field_rules) == 0]"
   ]
  },
  {
   "cell_type": "code",
   "execution_count": null,
   "metadata": {},
   "outputs": [],
   "source": [
    "# Item at index i contains fields that could be in position i\n",
    "possible_fields = [set(field_rules.keys()) for _ in range(n_fields)]"
   ]
  },
  {
   "cell_type": "code",
   "execution_count": null,
   "metadata": {},
   "outputs": [],
   "source": [
    "# Eliminate invalid fields based on tickets\n",
    "for ticket in valid_tickets:\n",
    "    for i in range(n_fields):\n",
    "        value = ticket[i]\n",
    "        new_possible_fields = set()\n",
    "        for field_name in possible_fields[i]:\n",
    "            if value in field_rules[field_name]:\n",
    "                new_possible_fields.add(field_name)\n",
    "        possible_fields[i] = new_possible_fields"
   ]
  },
  {
   "cell_type": "code",
   "execution_count": null,
   "metadata": {},
   "outputs": [],
   "source": [
    "# Find a valid allocation of names to fields\n",
    "# by elimination. If for a position only one field name is\n",
    "# valid, we can remove it from the other positions\n",
    "has_changed = True\n",
    "has_fixed = set() # fields that we have already eliminated\n",
    "\n",
    "while has_changed:\n",
    "    has_changed = False\n",
    "    new_possible_fields = [i for i in possible_fields]\n",
    "    \n",
    "    for i in range(n_fields):\n",
    "        fields = possible_fields[i]\n",
    "        if len(fields) == 1 and len(fields - has_fixed) == 1:\n",
    "            has_fixed = has_fixed.union(fields)\n",
    "            for j in range(n_fields):\n",
    "                if j == i:\n",
    "                    continue\n",
    "                new_possible_fields[j] = new_possible_fields[j] - fields\n",
    "                if new_possible_fields[j] != possible_fields[j]:\n",
    "                    has_changed = True\n",
    "                \n",
    "    possible_fields = new_possible_fields\n",
    "    \n",
    "# length-one sets to item\n",
    "possible_fields = [field.pop() for field in possible_fields]"
   ]
  },
  {
   "cell_type": "code",
   "execution_count": null,
   "metadata": {},
   "outputs": [],
   "source": [
    "departure_values = [my_ticket[i] for i in range(n_fields) if \"departure \" in possible_fields[i]]\n",
    "reduce(mul, departure_values)"
   ]
  },
  {
   "cell_type": "markdown",
   "metadata": {},
   "source": [
    "# Day 17: Conway Cubes"
   ]
  },
  {
   "cell_type": "code",
   "execution_count": null,
   "metadata": {},
   "outputs": [],
   "source": [
    "grid = read_input(\"input/17.txt\", lambda x: [[int(i == \"#\")] for i in x])"
   ]
  },
  {
   "cell_type": "markdown",
   "metadata": {},
   "source": [
    "### Part 1"
   ]
  },
  {
   "cell_type": "code",
   "execution_count": null,
   "metadata": {},
   "outputs": [],
   "source": [
    "def get_active_neighbors_3d(grid, cube_x, cube_y, cube_z, self):\n",
    "    \"\"\"\n",
    "    Return the number of active neighbors for cube\n",
    "    at position cube_x, cube_y, cube_z\n",
    "    \"\"\"\n",
    "    grid_x = grid[max(0, cube_x-1):(cube_x+2)]\n",
    "    grid_y = [x[max(0, cube_y-1):(cube_y+2)] for x in grid_x]\n",
    "    neighbors = [z[max(0, cube_z-1):(cube_z+2)] for y in grid_y for z in y]\n",
    "    neighbors = [n for neigh in neighbors for n in neigh] # flattening\n",
    "        \n",
    "    return sum(neighbors) - self"
   ]
  },
  {
   "cell_type": "code",
   "execution_count": null,
   "metadata": {
    "scrolled": false
   },
   "outputs": [],
   "source": [
    "xmax = len(grid)\n",
    "ymax = len(grid[0])\n",
    "zmax = len(grid[0][0])\n",
    "\n",
    "# copy cause we'll need the original in part 2\n",
    "grd = [[[grid[x][y][z] for z in range(zmax)] for y in range(ymax)] for x in range(xmax)]\n",
    "\n",
    "for _ in range(6):\n",
    "    xmax += 2\n",
    "    ymax += 2\n",
    "    zmax += 2\n",
    "\n",
    "    new_grid = [[[0 for z in range(zmax)] for y in range(ymax)] for x in range(xmax)]\n",
    "\n",
    "    for x in range(-1, xmax-1):\n",
    "        for y in range(-1, ymax-1):\n",
    "            for z in range(-1, zmax-1):\n",
    "                if (0 <= x < xmax-2) and (0 <= y < ymax-2) and (0 <= z < zmax-2):\n",
    "                    self = grd[x][y][z]\n",
    "                else:\n",
    "                    self = 0\n",
    "\n",
    "                active_neighbors = get_active_neighbors_3d(grd, x, y, z, self)\n",
    "\n",
    "                if self == 1:\n",
    "                    if 2 <= active_neighbors <= 3:\n",
    "                        act = 1\n",
    "                    else:\n",
    "                        act = 0\n",
    "                else:\n",
    "                    if active_neighbors == 3:\n",
    "                        act = 1\n",
    "                    else:\n",
    "                        act = 0\n",
    "                new_grid[x+1][y+1][z+1] = act\n",
    "    grd = new_grid\n",
    "\n",
    "sum(z for x in grd for y in x for z in y)"
   ]
  },
  {
   "cell_type": "markdown",
   "metadata": {},
   "source": [
    "### Part 2"
   ]
  },
  {
   "cell_type": "code",
   "execution_count": null,
   "metadata": {},
   "outputs": [],
   "source": [
    "def get_active_neighbors_4d(grid, cube_x, cube_y, cube_z, cube_w, self):\n",
    "    \"\"\"\n",
    "    Return the number of active neighbors for cube\n",
    "    at position cube_x, cube_y, cube_z\n",
    "    \"\"\"\n",
    "    grid_x = grid[max(0, cube_x-1):(cube_x+2)]\n",
    "    grid_y = [y[max(0, cube_y-1):(cube_y+2)] for y in grid_x]\n",
    "    grid_z = [z[max(0, cube_z-1):(cube_z+2)] for y in grid_y for z in y]\n",
    "    neighbors = [w[max(0, cube_w-1):(cube_w+2)] for z in grid_z for w in z]\n",
    "    neighbors = [n for neigh in neighbors for n in neigh] # flattening\n",
    "        \n",
    "    return sum(neighbors) - self"
   ]
  },
  {
   "cell_type": "code",
   "execution_count": null,
   "metadata": {},
   "outputs": [],
   "source": [
    "xmax = len(grid)\n",
    "ymax = len(grid[0])\n",
    "zmax = len(grid[0][0])\n",
    "wmax = 1\n",
    "\n",
    "# copy cause we'll need the original in part 2\n",
    "grd = [[[[grid[x][y][z]] for z in range(zmax)] for y in range(ymax)] for x in range(xmax)]\n",
    "\n",
    "for _ in range(6):\n",
    "    xmax += 2\n",
    "    ymax += 2\n",
    "    zmax += 2\n",
    "    wmax += 2\n",
    "\n",
    "    new_grid = [[[[0 for w in range(wmax)] for z in range(zmax)] for y in range(ymax)] for x in range(xmax)]\n",
    "\n",
    "    for x in range(-1, xmax-1):\n",
    "        for y in range(-1, ymax-1):\n",
    "            for z in range(-1, zmax-1):\n",
    "                for w in range(-1, wmax-1):\n",
    "                    if (0 <= x < xmax-2) and (0 <= y < ymax-2) and (0 <= z < zmax-2) and (0 <= w < wmax-2):\n",
    "                        self = grd[x][y][z][w]\n",
    "                    else:\n",
    "                        self = 0\n",
    "\n",
    "                    active_neighbors = get_active_neighbors_4d(grd, x, y, z, w, self)\n",
    "\n",
    "                    if self == 1:\n",
    "                        if 2 <= active_neighbors <= 3:\n",
    "                            act = 1\n",
    "                        else:\n",
    "                            act = 0\n",
    "                    else:\n",
    "                        if active_neighbors == 3:\n",
    "                            act = 1\n",
    "                        else:\n",
    "                            act = 0\n",
    "                    new_grid[x+1][y+1][z+1][w+1] = act\n",
    "    grd = new_grid\n",
    "\n",
    "sum(w for x in grd for y in x for z in y for w in z)"
   ]
  },
  {
   "cell_type": "markdown",
   "metadata": {},
   "source": [
    "# Day 18: Operation Order"
   ]
  },
  {
   "cell_type": "code",
   "execution_count": null,
   "metadata": {},
   "outputs": [],
   "source": [
    "expressions = [\"(\" + i + \")\" for i in read_input(\"input/18.txt\")]"
   ]
  },
  {
   "cell_type": "markdown",
   "metadata": {},
   "source": [
    "### Part 1"
   ]
  },
  {
   "cell_type": "code",
   "execution_count": null,
   "metadata": {
    "scrolled": true
   },
   "outputs": [],
   "source": [
    "def match_fun(match):\n",
    "    sol = eval(match.group(1))\n",
    "    res = match.group(2)\n",
    "    return f\"({sol} {res}\"\n",
    "\n",
    "def solve_expression(expression):\n",
    "    while True:\n",
    "        # \"(6 + 2 * 9\" => \"((6 + 2) * 9\"\n",
    "        new_expression = re.sub(r\"\\((\\d+ [*+] \\d+) ([*+])\", match_fun, expression)\n",
    "        # \"(6 + 2)\" => \"8\"\n",
    "        new_expression = re.sub(r\"\\((\\d+ [*+] \\d+)\\)\", lambda x: str(eval(x.group(0))), new_expression)\n",
    "\n",
    "        if new_expression == expression:\n",
    "            break\n",
    "        expression = new_expression\n",
    "\n",
    "    return eval(expression)\n",
    "\n",
    "sum(solve_expression(expression) for expression in expressions)"
   ]
  },
  {
   "cell_type": "markdown",
   "metadata": {},
   "source": [
    "### Part 2"
   ]
  },
  {
   "cell_type": "code",
   "execution_count": null,
   "metadata": {},
   "outputs": [],
   "source": [
    "def match_fun(match):\n",
    "    num1, op1, num2, op2, num3 = match.groups()\n",
    "    # Right precedence of + and *\n",
    "    if op1 == \"+\":\n",
    "        return f\"({int(num1)+int(num2)} {op2} {num3}\"\n",
    "    elif op2 == \"+\":\n",
    "        return f\"({num1} {op1} ({num2} {op2} {num3})\"\n",
    "    else:\n",
    "        return f\"(({num1} {op1} {num2}) {op2} {num3}\"\n",
    "\n",
    "def solve_expression(expression):\n",
    "    while True:\n",
    "        # \"(6 + 2 * 9\" => \"((6 + 2) * 9\"\n",
    "        new_expression = re.sub(r\"\\((\\d+) ([*+]) (\\d+) ([*+]) (\\d+)\", match_fun, expression)\n",
    "        # \"(6 + 2)\" => \"8\"\n",
    "        new_expression = re.sub(r\"\\((\\d+ [*+] \\d+)\\)\", lambda x: str(eval(x.group(0))), new_expression)\n",
    "\n",
    "        if new_expression == expression:\n",
    "            break\n",
    "        expression = new_expression\n",
    "\n",
    "    return eval(expression)\n",
    "\n",
    "sum(solve_expression(expression) for expression in expressions)"
   ]
  },
  {
   "cell_type": "markdown",
   "metadata": {},
   "source": [
    "# Day 19: Monster Messages"
   ]
  },
  {
   "cell_type": "code",
   "execution_count": null,
   "metadata": {},
   "outputs": [],
   "source": [
    "input_19 = read_input(\"input/19.txt\")\n",
    "\n",
    "rules_dict, messages = {}, []\n",
    "i = 0\n",
    "for line in input_19:\n",
    "    if line == \"\":\n",
    "        i += 1\n",
    "    \n",
    "    if i == 0:\n",
    "        num, rule = line.split(\": \")\n",
    "        rules_dict[int(num)] = rule\n",
    "    else:\n",
    "        messages.append(line)\n",
    "    \n",
    "rules = [\"\"] * len(rules_dict)\n",
    "for i, rule in rules_dict.items():\n",
    "    rules[i] = rule"
   ]
  },
  {
   "cell_type": "code",
   "execution_count": null,
   "metadata": {},
   "outputs": [],
   "source": [
    "def solve_rule(i, depth=0):\n",
    "    \"\"\"\n",
    "    Turn rule i into a regex\n",
    "    \"\"\"\n",
    "    rule = rules[i]\n",
    "    \n",
    "    # Literal match\n",
    "    if rule[0] == '\"':\n",
    "        return rule.replace('\"', \"\")\n",
    "    \n",
    "    # Recurse-match: (..|..)\n",
    "    res = \"(\"\n",
    "    for char in rule.split(\" \"):\n",
    "        if char == \"|\":\n",
    "            res += \"|\"\n",
    "        elif char == \" \":\n",
    "            continue\n",
    "        else:\n",
    "            char_i = int(char)\n",
    "            # memoize\n",
    "            if parsed_rules[char_i] is None:\n",
    "                # for part 2, stop after 200 loops\n",
    "                if depth <= 200:\n",
    "                    res_i = solve_rule(char_i, depth + 1)\n",
    "                else:\n",
    "                    res_i = \"\"\n",
    "                parsed_rules[char_i] = res_i\n",
    "\n",
    "            res += parsed_rules[char_i]\n",
    "    res += \")\"\n",
    "    return res"
   ]
  },
  {
   "cell_type": "code",
   "execution_count": null,
   "metadata": {},
   "outputs": [],
   "source": [
    "parsed_rules = [None for _ in range(len(rules))]\n",
    "\n",
    "rule = solve_rule(0)\n",
    "rule = re.compile(f\"^{rule}$\")\n",
    "\n",
    "sum(1 for message in messages if rule.match(message))"
   ]
  },
  {
   "cell_type": "markdown",
   "metadata": {},
   "source": [
    "### Part 2"
   ]
  },
  {
   "cell_type": "code",
   "execution_count": null,
   "metadata": {},
   "outputs": [],
   "source": [
    "rules[8] = \"42 | 42 8\"\n",
    "rules[11] = \"42 31 | 42 11 31\""
   ]
  },
  {
   "cell_type": "code",
   "execution_count": null,
   "metadata": {
    "scrolled": true
   },
   "outputs": [],
   "source": [
    "parsed_rules = [None for _ in range(len(rules))]\n",
    "rule = solve_rule(0)\n",
    "rule = re.compile(f\"^{rule}$\")\n",
    "sum(1 for message in messages if rule.match(message))"
   ]
  },
  {
   "cell_type": "markdown",
   "metadata": {},
   "source": [
    "# Day 20: Jurassic Jigsaw"
   ]
  },
  {
   "cell_type": "code",
   "execution_count": null,
   "metadata": {},
   "outputs": [],
   "source": [
    "tile_list = read_input(\"input/20 kopie.txt\")"
   ]
  },
  {
   "cell_type": "code",
   "execution_count": null,
   "metadata": {},
   "outputs": [],
   "source": [
    "def encode_border(border):\n",
    "    return int(\"\".join(\"1\" if i == \"#\" else \"0\" for i in border), 2)\n",
    "\n",
    "def encode_tile(tile):\n",
    "    \"\"\"\n",
    "    Summarise a tile and its orientations with\n",
    "    numbers. If we encode '.' as 0 and '#' as 1,\n",
    "    a row (left to right) or column (top to bottom)\n",
    "    encodes a binary number.\n",
    "    \"\"\"\n",
    "    first_row = tile[0]\n",
    "    last_row = tile[-1]\n",
    "    first_col = [i[0] for i in tile]\n",
    "    last_col = [i[-1] for i in tile]\n",
    "    \n",
    "    top = encode_border(first_row)\n",
    "    top_flip = encode_border(first_row[::-1])\n",
    "    bottom = encode_border(last_row)\n",
    "    bottom_flip = encode_border(last_row[::-1])\n",
    "    left = encode_border(first_col)\n",
    "    left_flip = encode_border(first_col[::-1])\n",
    "    right = encode_border(last_col)\n",
    "    right_flip = encode_border(last_col[::-1])\n",
    "\n",
    "    rotations = [(top, right, bottom, left), # normal\n",
    "                 (left_flip, top, right_flip, bottom),\n",
    "                 (bottom_flip, left_flip, top_flip, right_flip),\n",
    "                 (right, bottom_flip, left, top_flip),\n",
    "                 (top_flip, right, bottom_flip, left), # vertical flip\n",
    "                 (left_flip, top_flip, right_flip, bottom_flip),\n",
    "                 (bottom, left_flip, top, right_flip),\n",
    "                 (right, bottom, left, top),\n",
    "                 (top, right_flip, bottom, left_flip), # horizontal flip\n",
    "                 (left, top, right, bottom),\n",
    "                 (bottom_flip, left, top_flip, right),\n",
    "                 (right_flip, bottom_flip, left_flip, top_flip)]\n",
    "        \n",
    "    return rotations"
   ]
  },
  {
   "cell_type": "code",
   "execution_count": null,
   "metadata": {},
   "outputs": [],
   "source": [
    "tiles = {}\n",
    "new_tile = []\n",
    "for row in tile_list:\n",
    "    if row == \"\":\n",
    "        tiles[tile_name] = encode_tile(new_tile)\n",
    "        new_tile = []\n",
    "    elif row[-1] == \":\":\n",
    "        tile_name = int(row[5:-1])\n",
    "    else:\n",
    "        new_tile.append(row)"
   ]
  },
  {
   "cell_type": "code",
   "execution_count": null,
   "metadata": {},
   "outputs": [],
   "source": [
    "tile_numbers = list(tiles.keys())\n",
    "tile_numbers"
   ]
  },
  {
   "cell_type": "code",
   "execution_count": null,
   "metadata": {},
   "outputs": [],
   "source": [
    "tiles[2311]"
   ]
  },
  {
   "cell_type": "markdown",
   "metadata": {},
   "source": [
    "# Day 21: Allergen Assessment"
   ]
  },
  {
   "cell_type": "code",
   "execution_count": null,
   "metadata": {},
   "outputs": [],
   "source": [
    "def clean_ingredients(row):\n",
    "    ingredients, allergens = row.split(\" (contains \")\n",
    "    \n",
    "    return set(ingredients.split(\" \")), set(allergens[:-1].split(\", \"))\n",
    "ingredients = read_input(\"input/21.txt\", clean_ingredients)"
   ]
  },
  {
   "cell_type": "code",
   "execution_count": null,
   "metadata": {},
   "outputs": [],
   "source": [
    "all_ingredients = reduce(set.union, [ing for ing, als in ingredients])\n",
    "\n",
    "# keep track of which ingredient could contain allergen\n",
    "could_contain = {}\n",
    "for ing, als in ingredients:\n",
    "    for al in als:\n",
    "        if al in could_contain:\n",
    "            could_contain[al] = could_contain[al].intersection(ing)\n",
    "        else:\n",
    "            could_contain[al] = ing"
   ]
  },
  {
   "cell_type": "markdown",
   "metadata": {},
   "source": [
    "### Part 1"
   ]
  },
  {
   "cell_type": "code",
   "execution_count": null,
   "metadata": {},
   "outputs": [],
   "source": [
    "could_contain_allergen = reduce(set.union, could_contain.values())\n",
    "\n",
    "sum(len(ing - could_contain_allergen) for ing, al in ingredients)"
   ]
  },
  {
   "cell_type": "markdown",
   "metadata": {},
   "source": [
    "### Part 2"
   ]
  },
  {
   "cell_type": "code",
   "execution_count": null,
   "metadata": {},
   "outputs": [],
   "source": [
    "not_done = True\n",
    "while not_done:\n",
    "    not_done = False\n",
    "    for als in could_contain.keys():\n",
    "        ings = could_contain[als]\n",
    "        if len(ings) == 1:\n",
    "            for to_update in could_contain.keys():\n",
    "                if to_update != als:\n",
    "                    could_contain[to_update] -= ings\n",
    "        if len(ings) > 1:\n",
    "            not_done = True\n",
    "\n",
    "result = [(c, v.pop()) for c, v in could_contain.items()]\n",
    "\n",
    "\",\".join(v for k, v in sorted(result))"
   ]
  },
  {
   "cell_type": "markdown",
   "metadata": {},
   "source": [
    "# Day 22: Crab Combat"
   ]
  },
  {
   "cell_type": "code",
   "execution_count": null,
   "metadata": {},
   "outputs": [],
   "source": [
    "decks = [[], []]\n",
    "i = 0\n",
    "\n",
    "for row in read_input(\"input/22.txt\"):\n",
    "    if row == \"\":\n",
    "        i += 1\n",
    "    elif row[0] == \"P\":\n",
    "        continue\n",
    "    else:\n",
    "        decks[i].append(int(row))"
   ]
  },
  {
   "cell_type": "markdown",
   "metadata": {},
   "source": [
    "### Part 1"
   ]
  },
  {
   "cell_type": "code",
   "execution_count": null,
   "metadata": {},
   "outputs": [],
   "source": [
    "player_1, player_2 = [[p for p in i] for i in decks]\n",
    "\n",
    "def play_game(player_1, player_2):\n",
    "    while True:\n",
    "        c1, c2 = player_1.pop(0), player_2.pop(0)\n",
    "        if c1 > c2:\n",
    "            player_1 += [c1, c2]\n",
    "            if len(player_2) == 0:\n",
    "                return player_1\n",
    "        else:\n",
    "            player_2 += [c2, c1]\n",
    "            if len(player_1) == 0:\n",
    "                return player_2\n",
    "        \n",
    "winning_deck = play_game(player_1, player_2)\n",
    "weights = list(range(len(winning_deck), 0, -1))\n",
    "\n",
    "sum(w*d for w, d in zip(weights, winning_deck))"
   ]
  },
  {
   "cell_type": "markdown",
   "metadata": {},
   "source": [
    "### Part 2"
   ]
  },
  {
   "cell_type": "code",
   "execution_count": null,
   "metadata": {},
   "outputs": [],
   "source": [
    "def play_game_recursive(player_1, player_2):\n",
    "    had_decks = []\n",
    "    while True:\n",
    "        if (tuple(player_1), tuple(player_2)) in had_decks:\n",
    "            return 1, player_1\n",
    "        had_decks.append((tuple(player_1), tuple(player_2)))\n",
    "\n",
    "        c1, c2 = player_1.pop(0), player_2.pop(0)\n",
    "        if len(player_1) >= c1 and len(player_2) >= c2:\n",
    "            winner, _ = play_game_recursive([p for p in player_1[:c1]], [p for p in player_2[:c2]])\n",
    "        elif c1 > c2:\n",
    "            winner = 1\n",
    "        else:\n",
    "            winner = 2\n",
    "        \n",
    "        if winner == 1:\n",
    "            player_1 += [c1, c2]\n",
    "        else:\n",
    "            player_2 += [c2, c1]\n",
    "                \n",
    "        if len(player_2) == 0:\n",
    "            return 1, player_1\n",
    "        elif len(player_1) == 0:\n",
    "            return 2, player_2"
   ]
  },
  {
   "cell_type": "code",
   "execution_count": null,
   "metadata": {},
   "outputs": [],
   "source": [
    "player_1, player_2 = [[p for p in i] for i in decks]\n",
    "\n",
    "winner, winning_deck = play_game_recursive(player_1, player_2)\n",
    "weights = list(range(len(winning_deck), 0, -1))\n",
    "\n",
    "sum(w*d for w, d in zip(weights, winning_deck))"
   ]
  },
  {
   "cell_type": "markdown",
   "metadata": {},
   "source": [
    "# Day 23: Crab Cups"
   ]
  },
  {
   "cell_type": "markdown",
   "metadata": {},
   "source": [
    "### Part 1"
   ]
  },
  {
   "cell_type": "code",
   "execution_count": null,
   "metadata": {},
   "outputs": [],
   "source": [
    "cups = [int(i) for i in \"952316487\"]\n",
    "\n",
    "for _ in range(100):\n",
    "    cup = cups.pop(0)\n",
    "    to_move = [cups.pop(0) for _ in range(3)]\n",
    "\n",
    "    selected = cup - 1\n",
    "    while selected not in cups:\n",
    "        selected -= 1\n",
    "        if selected < min(cups):\n",
    "            selected = max(cups)\n",
    "\n",
    "    move_to = cups.index(selected) + 1\n",
    "\n",
    "    cups = cups[:move_to] + to_move + cups[move_to:] + [cup]\n",
    "\n",
    "i1 = cups.index(1)\n",
    "\"\".join(str(i) for i in cups[(i1+1):] + cups[:i1])"
   ]
  },
  {
   "cell_type": "markdown",
   "metadata": {},
   "source": [
    "### Part 2"
   ]
  },
  {
   "cell_type": "code",
   "execution_count": null,
   "metadata": {
    "scrolled": true
   },
   "outputs": [],
   "source": []
  },
  {
   "cell_type": "markdown",
   "metadata": {},
   "source": [
    "# Day 24: Lobby Layout"
   ]
  },
  {
   "cell_type": "code",
   "execution_count": null,
   "metadata": {},
   "outputs": [],
   "source": [
    "tile_regex = re.compile(\"(e|se|sw|w|nw|ne)\")\n",
    "\n",
    "flip_tiles = read_input(\"input/24.txt\", tile_regex.findall)\n",
    "\n",
    "dxdy_even = {\n",
    "    \"e\":  ( 1,  0),\n",
    "    \"w\":  (-1,  0),\n",
    "    \"se\": ( 0,  1),\n",
    "    \"sw\": (-1,  1),\n",
    "    \"nw\": (-1, -1),\n",
    "    \"ne\": ( 0, -1)}\n",
    "\n",
    "dxdy_odd = {\n",
    "    \"e\":  ( 1,  0),\n",
    "    \"w\":  (-1,  0),\n",
    "    \"se\": ( 1,  1),\n",
    "    \"sw\": ( 0,  1),\n",
    "    \"nw\": ( 0, -1),\n",
    "    \"ne\": ( 1, -1)}"
   ]
  },
  {
   "cell_type": "code",
   "execution_count": null,
   "metadata": {},
   "outputs": [],
   "source": [
    "def get_coords(tile):\n",
    "    x, y = 0, 0\n",
    "    for i in tile:\n",
    "        if y % 2 == 0:\n",
    "            dx, dy = dxdy_even[i]\n",
    "        else:\n",
    "            dx, dy = dxdy_odd[i]\n",
    "\n",
    "        x += dx\n",
    "        y += dy\n",
    "    return x, y"
   ]
  },
  {
   "cell_type": "code",
   "execution_count": null,
   "metadata": {},
   "outputs": [],
   "source": [
    "num_flips = defaultdict(int)\n",
    "\n",
    "for tile in flip_tiles:\n",
    "    num_flips[get_coords(tile)] += 1"
   ]
  },
  {
   "cell_type": "markdown",
   "metadata": {},
   "source": [
    "### Part 1"
   ]
  },
  {
   "cell_type": "code",
   "execution_count": null,
   "metadata": {},
   "outputs": [],
   "source": [
    "sum(flips % 2 for tile, flips in num_flips.items())"
   ]
  },
  {
   "cell_type": "markdown",
   "metadata": {},
   "source": [
    "# Day 25"
   ]
  },
  {
   "cell_type": "code",
   "execution_count": null,
   "metadata": {},
   "outputs": [],
   "source": [
    "subject = 7\n",
    "mod = 20201227 # prime\n",
    "\n",
    "# card_pub = 5764801 # 7^8\n",
    "# door_pub = 17807724 # 2^2 * 3^2 * 11 * 193 * 233\n",
    "card_pub = 14788856 # 2^3 * 1848607\n",
    "door_pub = 19316454 # 2 * 3 * 17 * 189337"
   ]
  },
  {
   "cell_type": "code",
   "execution_count": null,
   "metadata": {},
   "outputs": [],
   "source": [
    "res = 1\n",
    "for i in range(1, door_pub):\n",
    "    res = (res * subject) % mod\n",
    "    if res == door_pub:\n",
    "        loop_size_door = i\n",
    "    if res == card_pub:\n",
    "        loop_size_card = i"
   ]
  },
  {
   "cell_type": "markdown",
   "metadata": {},
   "source": [
    "### Part 1"
   ]
  },
  {
   "cell_type": "code",
   "execution_count": null,
   "metadata": {},
   "outputs": [],
   "source": [
    "res = 1\n",
    "for i in range(loop_size_card):\n",
    "    res = (res * door_pub) % mod\n",
    "res"
   ]
  }
 ],
 "metadata": {
  "@webio": {
   "lastCommId": null,
   "lastKernelId": null
  },
  "kernelspec": {
   "display_name": "Python 3",
   "language": "python",
   "name": "python3"
  },
  "language_info": {
   "codemirror_mode": {
    "name": "ipython",
    "version": 3
   },
   "file_extension": ".py",
   "mimetype": "text/x-python",
   "name": "python",
   "nbconvert_exporter": "python",
   "pygments_lexer": "ipython3",
   "version": "3.6.10"
  }
 },
 "nbformat": 4,
 "nbformat_minor": 4
}

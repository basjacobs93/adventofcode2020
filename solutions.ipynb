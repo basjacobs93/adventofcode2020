{
 "cells": [
  {
   "cell_type": "code",
   "execution_count": null,
   "metadata": {},
   "outputs": [],
   "source": [
    "from itertools import combinations\n",
    "from functools import reduce\n",
    "from operator import mul\n",
    "import re"
   ]
  },
  {
   "cell_type": "markdown",
   "metadata": {},
   "source": [
    "# Helper functions"
   ]
  },
  {
   "cell_type": "code",
   "execution_count": null,
   "metadata": {},
   "outputs": [],
   "source": [
    "def read_file(filepath, fun):\n",
    "    \"\"\"\n",
    "    Read file at location `filepath`, apply `fun` to every line,\n",
    "    and return the result as a list.\n",
    "    \"\"\"\n",
    "    with open(filepath) as f:\n",
    "        return [fun(i.strip()) for i in f.readlines()]"
   ]
  },
  {
   "cell_type": "markdown",
   "metadata": {},
   "source": [
    "# Day 1: Report Repair"
   ]
  },
  {
   "cell_type": "code",
   "execution_count": null,
   "metadata": {},
   "outputs": [],
   "source": [
    "numbers = read_file(\"input/1.txt\", int)"
   ]
  },
  {
   "cell_type": "markdown",
   "metadata": {},
   "source": [
    "### Part 1"
   ]
  },
  {
   "cell_type": "code",
   "execution_count": null,
   "metadata": {},
   "outputs": [],
   "source": [
    "for comb in combinations(numbers, 2):\n",
    "    if sum(comb) == 2020:\n",
    "        print(comb, reduce(mul, comb))\n",
    "        break"
   ]
  },
  {
   "cell_type": "markdown",
   "metadata": {},
   "source": [
    "### Part 2"
   ]
  },
  {
   "cell_type": "code",
   "execution_count": null,
   "metadata": {},
   "outputs": [],
   "source": [
    "for comb in combinations(numbers, 3):\n",
    "    if sum(comb) == 2020:\n",
    "        print(comb, reduce(mul, comb))\n",
    "        break"
   ]
  },
  {
   "cell_type": "markdown",
   "metadata": {},
   "source": [
    "# Day 2: Password Philosophy"
   ]
  },
  {
   "cell_type": "code",
   "execution_count": null,
   "metadata": {},
   "outputs": [],
   "source": [
    "pattern = re.compile(\"(\\d+)-(\\d+) (\\w): (\\w+)\")\n",
    "\n",
    "def cleaner_day2(line):\n",
    "    mini, maxi, char, password = pattern.findall(line)[0]\n",
    "    return int(mini), int(maxi), char, password\n",
    "\n",
    "policies = read_file(\"input/2.txt\", cleaner_day2)"
   ]
  },
  {
   "cell_type": "markdown",
   "metadata": {},
   "source": [
    "### Part 1"
   ]
  },
  {
   "cell_type": "code",
   "execution_count": null,
   "metadata": {},
   "outputs": [],
   "source": [
    "count = 0\n",
    "for mini, maxi, char, password in policies:\n",
    "    if mini <= password.count(char) <= maxi:\n",
    "        count += 1\n",
    "count"
   ]
  },
  {
   "cell_type": "markdown",
   "metadata": {},
   "source": [
    "### Part 2"
   ]
  },
  {
   "cell_type": "code",
   "execution_count": null,
   "metadata": {},
   "outputs": [],
   "source": [
    "count = 0\n",
    "for i, j, char, password in policies:\n",
    "    if sum([password[i-1] == char, password[j-1] == char]) == 1:\n",
    "        count += 1\n",
    "count"
   ]
  },
  {
   "cell_type": "markdown",
   "metadata": {},
   "source": [
    "# Day 3: Toboggan Trajectory"
   ]
  },
  {
   "cell_type": "code",
   "execution_count": null,
   "metadata": {},
   "outputs": [],
   "source": [
    "treemap = read_file(\"input/3.txt\", lambda x: x)\n",
    "nrows = len(treemap)\n",
    "ncols = len(treemap[0])"
   ]
  },
  {
   "cell_type": "markdown",
   "metadata": {},
   "source": [
    "### Part 1"
   ]
  },
  {
   "cell_type": "code",
   "execution_count": null,
   "metadata": {},
   "outputs": [],
   "source": [
    "row = col = 0\n",
    "tree_count = 0\n",
    "slope_col, slope_row = (3, 1)\n",
    "\n",
    "while row < nrows-slope_row:\n",
    "    row = row + slope_row\n",
    "    col = (col + slope_col) % ncols\n",
    "    tree_count += treemap[row][col] == \"#\"\n",
    "    \n",
    "tree_count"
   ]
  },
  {
   "cell_type": "markdown",
   "metadata": {},
   "source": [
    "### Part 2"
   ]
  },
  {
   "cell_type": "code",
   "execution_count": null,
   "metadata": {},
   "outputs": [],
   "source": [
    "slopes = [(1, 1), (3, 1), (5, 1), (7, 1), (1, 2)]\n",
    "prod = 1\n",
    "\n",
    "for slope_col, slope_row in slopes:\n",
    "    row = col = 0\n",
    "    tree_count = 0\n",
    "\n",
    "    while row < nrows-slope_row:\n",
    "        row = row + slope_row\n",
    "        col = (col + slope_col) % ncols\n",
    "        tree_count += treemap[row][col] == \"#\"\n",
    "\n",
    "    prod *= tree_count\n",
    "prod"
   ]
  }
 ],
 "metadata": {
  "@webio": {
   "lastCommId": null,
   "lastKernelId": null
  },
  "kernelspec": {
   "display_name": "Python 3",
   "language": "python",
   "name": "python3"
  },
  "language_info": {
   "codemirror_mode": {
    "name": "ipython",
    "version": 3
   },
   "file_extension": ".py",
   "mimetype": "text/x-python",
   "name": "python",
   "nbconvert_exporter": "python",
   "pygments_lexer": "ipython3",
   "version": "3.6.10"
  }
 },
 "nbformat": 4,
 "nbformat_minor": 4
}
